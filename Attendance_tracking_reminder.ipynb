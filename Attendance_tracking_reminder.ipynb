{
 "cells": [
  {
   "cell_type": "markdown",
   "metadata": {
    "application/vnd.databricks.v1+cell": {
     "cellMetadata": {},
     "inputWidgets": {},
     "nuid": "cdd11110-46bd-4438-94ac-70fa1a41bfd5",
     "showTitle": false,
     "tableResultSettingsMap": {},
     "title": ""
    }
   },
   "source": [
    "# E-Mail Reminder for tracking attendance in Konzertmeister"
   ]
  },
  {
   "cell_type": "code",
   "execution_count": 0,
   "metadata": {
    "application/vnd.databricks.v1+cell": {
     "cellMetadata": {
      "byteLimit": 2048000,
      "implicitDf": true,
      "rowLimit": 10000
     },
     "inputWidgets": {},
     "nuid": "bd5de91f-6315-458e-bc09-80f48b7d2dea",
     "showTitle": false,
     "tableResultSettingsMap": {},
     "title": ""
    }
   },
   "outputs": [],
   "source": [
    "query_aptmts = open('appointments_no_attendance.sql', 'r').read()\n",
    "aptmts_df = spark.sql(query_aptmts) \n",
    "display(aptmts_df)"
   ]
  },
  {
   "cell_type": "code",
   "execution_count": 0,
   "metadata": {
    "application/vnd.databricks.v1+cell": {
     "cellMetadata": {
      "byteLimit": 2048000,
      "rowLimit": 10000
     },
     "inputWidgets": {},
     "nuid": "e140cf29-17e8-4343-989e-1925da1f6a6e",
     "showTitle": false,
     "tableResultSettingsMap": {},
     "title": ""
    }
   },
   "outputs": [],
   "source": [
    "import datetime\n",
    "import smtplib\n",
    "from email.mime.multipart import MIMEMultipart\n",
    "from email.mime.text import MIMEText\n",
    "\n",
    "\n",
    "def send_mails_aptms(df_aptmt):\n",
    "    \"\"\"\n",
    "    Send reminder emails for appointments with missing attendance.\n",
    "\n",
    "    Parameters\n",
    "    ----------\n",
    "    df_aptmt : pyspark.sql.DataFrame\n",
    "        DataFrame containing appointment details with missing attendance.\n",
    "\n",
    "    Returns\n",
    "    -------\n",
    "    None\n",
    "    \"\"\"\n",
    "    # Set up the SMTP server\n",
    "    smtp_server = \"smtp.office365.com\"\n",
    "    smtp_port = 587\n",
    "    smtp_user = dbutils.secrets.get(scope=\"bmk-key-vault-scope\", key=\"sp-news-bmk-mail\")\n",
    "    smtp_password = dbutils.secrets.get(\n",
    "        scope=\"bmk-key-vault-scope\", key=\"sp-news-bmk-pw\"\n",
    "    )\n",
    "\n",
    "    # Create the message\n",
    "    msg = MIMEMultipart(\"alternative\")\n",
    "    msg[\"Subject\"] = f\"Fehlende Anwesenheiten in Konzertmeister - {df_aptmt.first()['appointment_name']}\"\n",
    "    msg[\"From\"] = \"BMK Service User <\" + smtp_user + \">\"\n",
    "    msg[\"Cc\"] = \"manuel.guth@bmk-buggingen.de\"\n",
    "\n",
    "    # define info for Mail\n",
    "    att_url = f\"https://web.konzertmeister.app/appointment/{df_aptmt.first()['appointmentId']}/attendance\"\n",
    "    # check which leaders should receive mail\n",
    "    if df_aptmt.count() == 1:\n",
    "        msg[\"To\"] = df_aptmt.first()[\"mail\"]\n",
    "        intro = f\"Hallo {df_aptmt.first()['name']},\"\n",
    "    else:\n",
    "        intro = \"Hallo zusammen, \\n\\n\"\n",
    "        df_aptmt = df_aptmt.filter(df_aptmt.Register != \"Dirigent\")\n",
    "        msg[\"To\"] = \", \".join([row[\"mail\"] for row in df_aptmt.collect()])\n",
    "    body = f\"\"\"\n",
    "\n",
    "die Veranstaltung `{df_aptmt.first()['appointment_name']}` fand am {df_aptmt.first()['appointment_date'].strftime('%d.%m.%Y')} statt.\n",
    "\n",
    "Bisher wurden noch keine Anwesenheiten eingetragen, diese können unter {att_url} eingetragen werden.\n",
    "Bitte tragt ein, wer bei dieser Veranstaltung anwesend war.\n",
    "\n",
    "Euer BMK Bot :)\n",
    "    \"\"\"\n",
    "    text_content = intro + body\n",
    "    # Attach the plain text and HTML content to the message\n",
    "    text_part = MIMEText(text_content, \"plain\")\n",
    "    msg.attach(text_part)\n",
    "    server = smtplib.SMTP(smtp_server, smtp_port)\n",
    "    server.starttls()\n",
    "    server.login(smtp_user, smtp_password)\n",
    "    server.sendmail(smtp_user, msg[\"To\"].split(\", \") + msg[\"Cc\"].split(\", \"), msg.as_string())\n",
    "    server.quit()"
   ]
  },
  {
   "cell_type": "code",
   "execution_count": 0,
   "metadata": {
    "application/vnd.databricks.v1+cell": {
     "cellMetadata": {
      "byteLimit": 2048000,
      "rowLimit": 10000
     },
     "inputWidgets": {},
     "nuid": "da120542-0fe2-485c-95dd-0be9089a0bf5",
     "showTitle": false,
     "tableResultSettingsMap": {},
     "title": ""
    }
   },
   "outputs": [],
   "source": [
    "appointment_ids = list(set([row['appointmentId'] for row in aptmts_df.collect()]))\n",
    "for appointment_id in appointment_ids:\n",
    "    df_aptmt_i = aptmts_df.filter(aptmts_df.appointmentId == appointment_id)\n",
    "    send_mails_aptms(df_aptmt_i)"
   ]
  },
  {
   "cell_type": "code",
   "execution_count": 0,
   "metadata": {
    "application/vnd.databricks.v1+cell": {
     "cellMetadata": {},
     "inputWidgets": {},
     "nuid": "394ede98-bb2f-432e-9cf3-a1a194bf080f",
     "showTitle": false,
     "tableResultSettingsMap": {},
     "title": ""
    }
   },
   "outputs": [],
   "source": []
  },
  {
   "cell_type": "code",
   "execution_count": 0,
   "metadata": {
    "application/vnd.databricks.v1+cell": {
     "cellMetadata": {},
     "inputWidgets": {},
     "nuid": "7bd13a74-d08c-476f-bda8-1f0548717859",
     "showTitle": false,
     "tableResultSettingsMap": {},
     "title": ""
    }
   },
   "outputs": [],
   "source": []
  }
 ],
 "metadata": {
  "application/vnd.databricks.v1+notebook": {
   "computePreferences": null,
   "dashboards": [],
   "environmentMetadata": {
    "base_environment": "",
    "client": "1"
   },
   "language": "python",
   "notebookMetadata": {
    "mostRecentlyExecutedCommandWithImplicitDF": {
     "commandId": 8583935795760321,
     "dataframes": [
      "_sqldf"
     ]
    },
    "pythonIndentUnit": 4
   },
   "notebookName": "Attendance_tracking_reminder",
   "widgets": {}
  },
  "language_info": {
   "name": "python"
  }
 },
 "nbformat": 4,
 "nbformat_minor": 0
}
