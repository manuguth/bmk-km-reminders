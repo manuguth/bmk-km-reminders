{
 "cells": [
  {
   "cell_type": "code",
   "execution_count": 0,
   "metadata": {
    "application/vnd.databricks.v1+cell": {
     "cellMetadata": {
      "byteLimit": 10485760,
      "rowLimit": 1000
     },
     "inputWidgets": {},
     "nuid": "27bb90ee-ea21-4ab1-9c6d-3d3fdc4eba67",
     "showTitle": false,
     "tableResultSettingsMap": {},
     "title": ""
    }
   },
   "outputs": [],
   "source": [
    "WITH leaders AS (\n",
    "  SELECT\n",
    "    km_roles.*,\n",
    "    km_members.name,\n",
    "    km_members.mail,\n",
    "    km_orgs.name as Register\n",
    "  from\n",
    "    silver.km_roles\n",
    "    left JOIN silver.km_members ON km_roles.kmUserId = km_members.id\n",
    "    LEFT JOIN silver.km_orgusermapping as km_orgusermapping ON km_orgusermapping.kmUserId = km_roles.kmUserId\n",
    "    and km_orgusermapping.active = 1\n",
    "    LEFT JOIN silver.km_orgs as km_orgs ON km_orgusermapping.orgId = km_orgs.id\n",
    "    and km_orgs.parentId is not null\n",
    "  where\n",
    "    1 = 1\n",
    "    AND km_members.active is TRUE\n",
    "    AND km_orgs.id is NOT NULL\n",
    "),\n",
    "appointments_no_attendance AS (\n",
    "  select\n",
    "    *,\n",
    "    datediff(current_date, appointment_date) AS days_since_appointment\n",
    "  from\n",
    "    bmk_prod.gold.v_km_appointments_summary\n",
    "  where\n",
    "    year(appointment_date) = 2025\n",
    "    and attending = 0\n",
    "    -- and invited < 10 -- temporary for testing\n",
    "    and datediff(current_date, appointment_date) > 0\n",
    ")\n",
    "select\n",
    "  mtrx.appointmentId,\n",
    "  mtrx.kmUserId,\n",
    "  aptmt.aptmt_type,\n",
    "  aptmt.appointment_name,\n",
    "  aptmt.appointment_date,\n",
    "  aptmt.invited,\n",
    "  aptmt.negative,\n",
    "  aptmt.positive,\n",
    "  aptmt.maybe,\n",
    "  aptmt.attending,\n",
    "  aptmt.days_since_appointment,\n",
    "  leaders.name,\n",
    "  leaders.mail,\n",
    "  leaders.Register\n",
    "from\n",
    "  bmk_prod.silver.km_matrix as mtrx\n",
    "  INNER JOIN appointments_no_attendance AS aptmt ON aptmt.id = mtrx.appointmentId\n",
    "  INNER JOIN leaders ON leaders.kmUserId = mtrx.kmUserId\n",
    "  AND mtrx.positive IS TRUE\n",
    "\n",
    "where\n",
    "1=1 \n",
    "  -- AND appointmentId = 2530399"
   ]
  }
 ],
 "metadata": {
  "application/vnd.databricks.v1+notebook": {
   "computePreferences": null,
   "dashboards": [],
   "environmentMetadata": null,
   "language": "sql",
   "notebookMetadata": {
    "sqlQueryOptions": {
     "applyAutoLimit": true,
     "catalog": "bmk_dev",
     "schema": "silver"
    }
   },
   "notebookName": "aptmts_no_attendance.dbquery.ipynb",
   "widgets": {}
  },
  "language_info": {
   "name": "sql"
  }
 },
 "nbformat": 4,
 "nbformat_minor": 0
}
